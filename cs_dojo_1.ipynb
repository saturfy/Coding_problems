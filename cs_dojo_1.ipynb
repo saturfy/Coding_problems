{
 "cells": [
  {
   "cell_type": "code",
   "execution_count": null,
   "metadata": {},
   "outputs": [],
   "source": [
    "'''Create a program which determines the first recurring character  in a string '''"
   ]
  },
  {
   "cell_type": "code",
   "execution_count": 1,
   "metadata": {},
   "outputs": [
    {
     "name": "stdout",
     "output_type": "stream",
     "text": [
      "B\n"
     ]
    }
   ],
   "source": [
    "string = \"DBCABA\"   # the string to search\n",
    "table = dict()  # dictionary to hold the results which were already encountered in the string\n",
    "\n",
    "#loop thorugh the string\n",
    "\n",
    "for i in string:\n",
    "    if i in table:\n",
    "        print(i)\n",
    "        break\n",
    "    else:\n",
    "        table[i] = 1  \n"
   ]
  },
  {
   "cell_type": "code",
   "execution_count": 15,
   "metadata": {},
   "outputs": [],
   "source": [
    "\"\"\"Given a map which maps letters to numbers from 1-26, write a program which calculates how many ways a given sequence\n",
    "of numbers can be mapped to letters.\n",
    "https://www.youtube.com/watch?v=qli-JCrSwuk&list=PLBZBJbE_rGRVnpitdvpdY9952IsKMDuev\n",
    "\n",
    "\"\"\"\n",
    "\n",
    "# the solution is based on recursion\n",
    "# mapping stars from left to right \n",
    "\n",
    "\n",
    "def numways(string,k):\n",
    "    # string is the sequence of numbers\n",
    "    # k is the number of the charcters which are separated for later mapping from the right: 123|123 k = 3\n",
    "   \n",
    "    l = len(string)\n",
    "    if (k == 0): return 1  # if we are at the last position we finish the recursion\n",
    "\n",
    "    if (string[-k] == '0'): return 0 # zero does not mapped to anywhere, only makes sense in 10,20\n",
    "\n",
    "    #check the first two characters in the active region\n",
    "    # if the first 2 character form a 2 digit number between 1-26 than it can be mapped to a letter\n",
    "    if (k >= 2) and int(string[(l-k):(l-k+2)]) < 27:\n",
    "        #the case where the caharters mapped alone also has to be calculated\n",
    "        return numways(string,(k-2)) + numways(string,(k-1))\n",
    "    else:\n",
    "        # in any other case only 1 digit numbers are mapped to letters\n",
    "        return numways(string,(k-1))\n"
   ]
  },
  {
   "cell_type": "code",
   "execution_count": 20,
   "metadata": {},
   "outputs": [
    {
     "data": {
      "text/plain": [
       "27"
      ]
     },
     "execution_count": 20,
     "metadata": {},
     "output_type": "execute_result"
    }
   ],
   "source": [
    "s = \"123123123\"\n",
    "numways(s,len(s))"
   ]
  },
  {
   "cell_type": "code",
   "execution_count": 2,
   "metadata": {},
   "outputs": [],
   "source": [
    "\"\"\"\n",
    "The number of steps in a staircase is given. Calculate how many ways you can get to the top of the staircase if at every step\n",
    "you can choose to step one up or step two. \n",
    "https://www.youtube.com/watch?v=5o-kdjv7FD0&list=PLBZBJbE_rGRVnpitdvpdY9952IsKMDuev&index=2\n",
    "\"\"\"\n",
    "\n",
    "def STEPS(n):\n",
    "# n is the number of steps is the staircase counted from the top\n",
    "    if (n == 0): return 1  # if n = 0 we are on the top already. We normalize this case to 1\n",
    "    elif (n == 1): return 1  # there is only one way to get on top of a one step staircase\n",
    "    \n",
    "    # since we can make 1 or 2 steps in every case we can advance in two ways and the problem is reduced to a onw with fever steps\n",
    "    else: return (STEPS(n-1) + STEPS(n-2)) \n"
   ]
  },
  {
   "cell_type": "code",
   "execution_count": 6,
   "metadata": {},
   "outputs": [
    {
     "data": {
      "text/plain": [
       "8"
      ]
     },
     "execution_count": 6,
     "metadata": {},
     "output_type": "execute_result"
    }
   ],
   "source": [
    "STEPS(5)"
   ]
  },
  {
   "cell_type": "code",
   "execution_count": 11,
   "metadata": {},
   "outputs": [],
   "source": [
    "\"\"\"\n",
    "The number of steps in a staircase is given. Calculate how many ways you can get to the top of the staircase if at every step\n",
    "you can choose how many steps you advance from given list. \n",
    "https://www.youtube.com/watch?v=5o-kdjv7FD0&list=PLBZBJbE_rGRVnpitdvpdY9952IsKMDuev&index=2\n",
    "\"\"\"\n",
    "\n",
    "X = [1,3,5] # this list contains the possible number of steps we can advance at every level (it always have to contain 1)\n",
    "\n",
    "def GEN_STEPS(list,n):\n",
    "    # list contains the possible steps\n",
    "    # n is the number of steps left to get to the top of the staricase\n",
    "    if (n == 0): return 1 # if we finish we return one as this is the last call of a function which can get to the top (recursively) \n",
    "    \n",
    "    # we can choose at every step from all of the possible step numbers from list\n",
    "    # this means that there is generally as many ways to proceed up as many elements in the list\n",
    "    # we have to exclude the ways which would lead to \"overstepping\". If we have n steps left we can only use l<n elements from the list\n",
    "    #everything else is basically the same as it was in the previous example\n",
    "    \n",
    "    # loop through our possibilities \n",
    "    tot = 0  # the solution\n",
    "    for i in list:\n",
    "        if ( (n - i) >= 0 ): tot += GEN_STEPS(list,n-i)\n",
    "    return tot"
   ]
  },
  {
   "cell_type": "code",
   "execution_count": 13,
   "metadata": {},
   "outputs": [
    {
     "data": {
      "text/plain": [
       "8"
      ]
     },
     "execution_count": 13,
     "metadata": {},
     "output_type": "execute_result"
    }
   ],
   "source": [
    "# first check that it gives back the previous result if X=[1,2]\n",
    "GEN_STEPS([1,2],5)"
   ]
  },
  {
   "cell_type": "code",
   "execution_count": 14,
   "metadata": {},
   "outputs": [
    {
     "data": {
      "text/plain": [
       "5"
      ]
     },
     "execution_count": 14,
     "metadata": {},
     "output_type": "execute_result"
    }
   ],
   "source": [
    "GEN_STEPS(X,5)"
   ]
  },
  {
   "cell_type": "code",
   "execution_count": 14,
   "metadata": {},
   "outputs": [],
   "source": [
    "\"\"\"\n",
    "Given a set of numbers create a program which enumerates all the possible subsets of the orginal set.\n",
    "https://www.youtube.com/watch?v=bGC2fNALbNU&list=PLBZBJbE_rGRVnpitdvpdY9952IsKMDuev&index=8\n",
    "\"\"\"\n",
    "\n",
    "#first we solving it recursively nums is the list containing the numbers from the big set\n",
    "def SUBSET(nums):\n",
    "    sollist = list(range(len(nums))) #empty list to temporarily store the solutions\n",
    "    SUBSET_rec(nums,sollist,0)\n",
    "\n",
    "#nums is the original set, sset, is the current subset we are building, \n",
    "#i, is the index of the element of nums we consider at the given step   \n",
    "       \n",
    "def SUBSET_rec(nums,sset,i):\n",
    "    \n",
    "    # if the index is equal to the final element of the nums list we see checked all elements already and decided to include it or not\n",
    "    if (i ==len(nums)): \n",
    "        # New printing option to format the output, detailed below\n",
    "        print(fancy(sset))\n",
    "        # old printing option: contains None-s\n",
    "        print(sset)\n",
    "    \n",
    "    # when we are considering the i-th element of nums we can add it to the set or not \n",
    "    #the we call the same function with the new iteration with a longer subset to check the next element\n",
    "    else: \n",
    "        sset[i] = None  # do not add it to the set\n",
    "        SUBSET_rec(nums,sset,i+1) \n",
    "        sset[i] = nums[i] # add it to the set\n",
    "        SUBSET_rec(nums,sset,i+1) \n",
    "        \n",
    "\n",
    "#The problem with this solution is that it looks ugly because we use None where we should use empty sets. It is argualbe though that \n",
    "#this behaviour is preferable as it makes it easier to process the solution further. We can write a function for display purposes \n",
    "#to make the final result look good. \n",
    "\n",
    "\n",
    "# the above function select the elements from a list which are not  NONE and creates a new list, then prints it to provide \n",
    "# nice output\n",
    "# using list comprehension\n",
    "def fancy(lst):\n",
    "    # [(expressions for i), for loop, condition for for loop]\n",
    "    # since None evaluates to false, they are left out \n",
    "    return [i for i in lst if i]\n",
    "    \n",
    "    "
   ]
  },
  {
   "cell_type": "code",
   "execution_count": 15,
   "metadata": {},
   "outputs": [
    {
     "name": "stdout",
     "output_type": "stream",
     "text": [
      "[]\n",
      "[None, None]\n",
      "[2]\n",
      "[None, 2]\n",
      "[1]\n",
      "[1, None]\n",
      "[1, 2]\n",
      "[1, 2]\n"
     ]
    }
   ],
   "source": [
    "SUBSET([1,2])"
   ]
  },
  {
   "cell_type": "code",
   "execution_count": 1,
   "metadata": {},
   "outputs": [],
   "source": [
    "\"\"\"\n",
    "This function below provides output without using None keyword by appending the list only when it is neccessary\n",
    "\n",
    "\"\"\"\n",
    "\n",
    "#first we solving it recursively nums is the list containing the numbers from the big set\n",
    "def SUBSET_2(nums):\n",
    "    SUBSET_rec_2(nums,[],0)\n",
    "\n",
    "#nums is the original set, sset, is the current subset we are building, \n",
    "#i, is the index of the element of nums we consider at the given step   \n",
    "       \n",
    "def SUBSET_rec_2(nums,sset,i):\n",
    "    \n",
    "    # if the index is equal to the final element of the nums list we see checked all elements already and decided to include it or not\n",
    "    if (i ==len(nums)): \n",
    "        # old printing option: contains None-s\n",
    "           print(sset)\n",
    "    \n",
    "    # when we are considering the i-th element of nums we can add it to the set or not \n",
    "    #the we call the same function with the new iteration with a longer subset to check the next element\n",
    "    else:\n",
    "        # do not add it to the set, we proceed to the next number in \"nums\" using the same set\n",
    "        SUBSET_rec_2(nums,sset,i+1) \n",
    "        # add it to the set and procced with the new set to the next number in \"nums\"\n",
    "       \n",
    "        #interestingly append does not work here because python function arguments are passed by reference and hence mutable\n",
    "        # PROBLEM: at this point the function is already went through at least 2 iterations. This means that the function call above\n",
    "        # has already used append somwhere. Since \"sset\" is appended inside the above function it is mutated at this point in the main function\n",
    "        # Even if the recursions are finished inside the above call, they permanently modified \"sset\" but it has to be tha same it\n",
    "        # was before the above call for the the iterative call below to work. \n",
    "        # this can be avoided by using the \"=\" assignment symbol, which creates a local instance of the list and hence it can not be modified outside of the recursion\n",
    "        # TO follow this behaviour the function varians below prints the set at given i-s as the iteration progresses\n",
    "        # Compare this to the good behavior by running the correct code \n",
    "        #sset.append(nums[i])  \n",
    "        \n",
    "        sset = sset + [nums[i]]   # this part creates a new list , original \"sset\" is not used anymore inside the function, we pass the list by value\n",
    "        SUBSET_rec_2(nums,sset,i+1) "
   ]
  },
  {
   "cell_type": "code",
   "execution_count": 7,
   "metadata": {},
   "outputs": [
    {
     "name": "stdout",
     "output_type": "stream",
     "text": [
      "[]\n",
      "[3]\n",
      "[2]\n",
      "[2, 3]\n",
      "[1]\n",
      "[1, 3]\n",
      "[1, 2]\n",
      "[1, 2, 3]\n"
     ]
    }
   ],
   "source": [
    "SUBSET_2([1,2,3])"
   ]
  },
  {
   "cell_type": "code",
   "execution_count": 3,
   "metadata": {},
   "outputs": [],
   "source": [
    "\"\"\"\n",
    "This is the same function as above just prints the values of the subsets at given 'i'-s so it can be followed how the append \n",
    "function destroys the solution\n",
    "\"\"\"\n",
    "#first we solving it recursively nums is the list containing the numbers from the big set\n",
    "def SUBSET_wrong(nums):\n",
    "    SUBSET_rec_wrong(nums,[],0)\n",
    "\n",
    "#nums is the original set, sset, is the current subset we are building, \n",
    "#i, is the index of the element of nums we consider at the given step   \n",
    "       \n",
    "def SUBSET_rec_wrong(nums,sset,i):\n",
    "    \n",
    "    # if the index is equal to the final element of the nums list we see checked all elements already and decided to include it or not\n",
    "    if (i ==len(nums)): \n",
    "        # old printing option: contains None-s\n",
    "           print(\"i =\", i,\"solution: \", sset)\n",
    "    \n",
    "    # when we are considering the i-th element of nums we can add it to the set or not \n",
    "    #the we call the same function with the new iteration with a longer subset to check the next element\n",
    "    else:\n",
    "        print(\"i =\", i,\"before not appending \", sset)\n",
    "        # do not add it to the set, we proceed to the next number in \"nums\" using the same set\n",
    "        SUBSET_rec_wrong(nums,sset,i+1) \n",
    "        # add it to the set and procced with the new set to the next number in \"nums\"\n",
    "        print(\"i =\", i,\"after not appending \", sset)\n",
    "        print(\"i =\", i,\"before appending \", sset)\n",
    "        sset.append(nums[i])    # this is where the permanent muation happens\n",
    "        print(\"i =\", i,\"after appending \", sset)\n",
    "        SUBSET_rec_wrong(nums,sset,i+1) \n",
    "\n",
    "        \n",
    "#--------------------------------------------------------------------------------------------------------------------------\n",
    "#%%%%%%%%%%%%%%%%%%%%%%%%%%%%%%%%%%%%%%%%%%%%%%%%%%%%%%%%%%%%%%%%%%%%%%%%%%%%%%%%%%%%%%%%%%%%%%%%%%%%%%%%%%%%%%%%%%%%%%%%%%%\n",
    "\n",
    "\"\"\"\n",
    "Good solution\n",
    "\"\"\"\n",
    "\n",
    "#first we solving it recursively nums is the list containing the numbers from the big set\n",
    "def SUBSET_right(nums):\n",
    "    SUBSET_rec_right(nums,[],0)\n",
    "\n",
    "#nums is the original set, sset, is the current subset we are building, \n",
    "#i, is the index of the element of nums we consider at the given step   \n",
    "       \n",
    "def SUBSET_rec_right(nums,sset,i):\n",
    "    \n",
    "    # if the index is equal to the final element of the nums list we see checked all elements already and decided to include it or not\n",
    "    if (i ==len(nums)): \n",
    "        # old printing option: contains None-s\n",
    "           print(\"i =\", i,\"solution: \", sset)\n",
    "    \n",
    "    # when we are considering the i-th element of nums we can add it to the set or not \n",
    "    #the we call the same function with the new iteration with a longer subset to check the next element\n",
    "    else:\n",
    "        print(\"i =\", i,\"before not appending \", sset)\n",
    "        # do not add it to the set, we proceed to the next number in \"nums\" using the same set\n",
    "        SUBSET_rec_right(nums,sset,i+1) \n",
    "        # add it to the set and procced with the new set to the next number in \"nums\"\n",
    "        print(\"i =\", i,\"after not appending \", sset)\n",
    "        print(\"i =\", i,\"before appending \", sset)\n",
    "        sset = sset + [nums[i]]   # this part creates a new list , original \"sset\" is not used anymore inside the function, we pass the list by value\n",
    "        print(\"i =\", i,\"after appending \", sset)\n",
    "        SUBSET_rec_right(nums,sset,i+1)         \n",
    "        "
   ]
  },
  {
   "cell_type": "code",
   "execution_count": 6,
   "metadata": {},
   "outputs": [
    {
     "name": "stdout",
     "output_type": "stream",
     "text": [
      "i = 0 before not appending  []\n",
      "i = 1 before not appending  []\n",
      "i = 2 solution:  []\n",
      "i = 1 after not appending  []\n",
      "i = 1 before appending  []\n",
      "i = 1 after appending  [2]\n",
      "i = 2 solution:  [2]\n",
      "i = 0 after not appending  [2]\n",
      "i = 0 before appending  [2]\n",
      "i = 0 after appending  [2, 1]\n",
      "i = 1 before not appending  [2, 1]\n",
      "i = 2 solution:  [2, 1]\n",
      "i = 1 after not appending  [2, 1]\n",
      "i = 1 before appending  [2, 1]\n",
      "i = 1 after appending  [2, 1, 2]\n",
      "i = 2 solution:  [2, 1, 2]\n"
     ]
    }
   ],
   "source": [
    "SUBSET_wrong([1,2])"
   ]
  },
  {
   "cell_type": "code",
   "execution_count": 4,
   "metadata": {},
   "outputs": [
    {
     "name": "stdout",
     "output_type": "stream",
     "text": [
      "i = 0 before not appending  []\n",
      "i = 1 before not appending  []\n",
      "i = 2 solution:  []\n",
      "i = 1 after not appending  []\n",
      "i = 1 before appending  []\n",
      "i = 1 after appending  [2]\n",
      "i = 2 solution:  [2]\n",
      "i = 0 after not appending  []\n",
      "i = 0 before appending  []\n",
      "i = 0 after appending  [1]\n",
      "i = 1 before not appending  [1]\n",
      "i = 2 solution:  [1]\n",
      "i = 1 after not appending  [1]\n",
      "i = 1 before appending  [1]\n",
      "i = 1 after appending  [1, 2]\n",
      "i = 2 solution:  [1, 2]\n"
     ]
    }
   ],
   "source": [
    "SUBSET_right([1,2])"
   ]
  },
  {
   "cell_type": "code",
   "execution_count": 94,
   "metadata": {},
   "outputs": [],
   "source": [
    "\"\"\"\n",
    "Take an ordered tree where every element has two children and it stars with one element. Find the lowest common ancestor of \n",
    "two given elements\n",
    "https://www.youtube.com/watch?v=GnliEfQo114&list=PLBZBJbE_rGRVnpitdvpdY9952IsKMDuev&index=9\n",
    "\"\"\"\n",
    "\n",
    "# first we have to build the tree\n",
    "# we will use a unique data structure\n",
    "\n",
    "class tree:\n",
    "    def __init__(self):\n",
    "        self.left = None\n",
    "        self.right = None\n",
    "        self.data = None\n",
    "        \n",
    "# we need a function which given the root of the tree finds a way to a given element\n",
    "# tree is the root of the tree structure we are examinig\n",
    "# element is the number which we searched \n",
    "# lst is the list describing the route \n",
    "def findroute(tree,element,lst):\n",
    "    \"\"\"\n",
    "    This function creates a list which describe the route to a given number in a tree\n",
    "    \"\"\"\n",
    "    # the functions executes only if it is in the tree. \n",
    "    # the end of the tree is signaled by returnning None\n",
    "    # the body is empty if the branch is \"None\" which means the function returns \"None\" by default\n",
    "    if (tree != None):\n",
    "        # the current branch is appended to the solution list\n",
    "        lst2 = lst + [tree.data]\n",
    "        # we return the list only if we just appended the element we searched for, because we have the solution\n",
    "        if (tree.data == element):\n",
    "            return lst2\n",
    "        # if we did not find the element we call the function recursively \n",
    "        else: \n",
    "            # if the solution is found inside this recursion than it returns it and we return it\n",
    "            # if there is no solution the return above is not activated and None is returned by default\n",
    "            x = findroute(tree.left,element,lst2)\n",
    "            if (x != None):\n",
    "                return x\n",
    "            # we check the same as above just in the other directions\n",
    "            y = findroute(tree.right,element,lst2)\n",
    "            if (y != None):\n",
    "                return y\n",
    "            #return can come from either side \n",
    "#explanation: we return \"None\" when we reach the end of the tree\n",
    "# these routes are discareded because we did not retrun anything\n",
    "# we return a list when we found the elemnt we are looking for\n",
    "            \n",
    "            \n",
    "            \n",
    "# we need a function which comparses the routes of two numbers and finds their lowest common ancestor\n",
    "# tr is the root of the tree structure\n",
    "# elem1 and elem2 are two numbers from the tree\n",
    "\n",
    "def LCA(tr,elem1,elem2):\n",
    "    \"\"\"\n",
    "    This function calcualtes the lowest common ancestor of the given two number in the given tree\n",
    "    \"\"\"\n",
    "    lst1 = findroute(tr,elem1,[])\n",
    "    lst2 = findroute(tr,elem2,[])\n",
    "    return list(set(lst1).intersection(lst2))[-1]\n",
    "    "
   ]
  },
  {
   "cell_type": "code",
   "execution_count": 73,
   "metadata": {},
   "outputs": [],
   "source": [
    "#     0\n",
    "#    / \\\n",
    "#   1   2\n",
    "#  / \\ / \\\n",
    "# 3  45  6\n",
    "\n",
    "\n",
    "root = tree()\n",
    "root.data = 0\n",
    "root.left = tree()\n",
    "root.left.data = 1\n",
    "root.right = tree()\n",
    "root.right.data = 2\n",
    "root.left.left = tree()\n",
    "root.left.left.data = 3\n",
    "root.left.right = tree()\n",
    "root.left.right.data = 4\n",
    "root.right.left = tree()\n",
    "root.right.left.data = 5\n",
    "root.right.right = tree()\n",
    "root.right.right.data = 6\n"
   ]
  },
  {
   "cell_type": "code",
   "execution_count": 75,
   "metadata": {},
   "outputs": [
    {
     "data": {
      "text/plain": [
       "[0, 2, 5]"
      ]
     },
     "execution_count": 75,
     "metadata": {},
     "output_type": "execute_result"
    }
   ],
   "source": [
    "findroute(root,5,[]) "
   ]
  },
  {
   "cell_type": "code",
   "execution_count": 99,
   "metadata": {},
   "outputs": [
    {
     "data": {
      "text/plain": [
       "0"
      ]
     },
     "execution_count": 99,
     "metadata": {},
     "output_type": "execute_result"
    }
   ],
   "source": [
    "LCA(root,4,5)\n"
   ]
  },
  {
   "cell_type": "code",
   "execution_count": 1,
   "metadata": {},
   "outputs": [
    {
     "ename": "NameError",
     "evalue": "name 'LCA' is not defined",
     "output_type": "error",
     "traceback": [
      "\u001b[1;31m---------------------------------------------------------------------------\u001b[0m",
      "\u001b[1;31mNameError\u001b[0m                                 Traceback (most recent call last)",
      "\u001b[1;32m<ipython-input-1-b315d644b194>\u001b[0m in \u001b[0;36m<module>\u001b[1;34m\u001b[0m\n\u001b[1;32m----> 1\u001b[1;33m \u001b[0mLCA\u001b[0m\u001b[1;33m(\u001b[0m\u001b[0mroot\u001b[0m\u001b[1;33m,\u001b[0m \u001b[1;36m5\u001b[0m\u001b[1;33m,\u001b[0m\u001b[1;36m6\u001b[0m\u001b[1;33m)\u001b[0m\u001b[1;33m\u001b[0m\u001b[1;33m\u001b[0m\u001b[0m\n\u001b[0m",
      "\u001b[1;31mNameError\u001b[0m: name 'LCA' is not defined"
     ]
    }
   ],
   "source": [
    "LCA(root, 5,6)"
   ]
  },
  {
   "cell_type": "code",
   "execution_count": 210,
   "metadata": {},
   "outputs": [
    {
     "data": {
      "text/plain": [
       "'\\nThis code can be optimized by taking advantage of the + - number properties\\n'"
      ]
     },
     "execution_count": 210,
     "metadata": {},
     "output_type": "execute_result"
    }
   ],
   "source": [
    "'''\n",
    "Create a program which finds the maximum subarray in an array\n",
    "array: random array of integers\n",
    "subarray: arbitrary selection of the arrays elements\n",
    "maximal subarray: the sum of the number in the subarray is the largest from all arrays\n",
    "'''\n",
    "\n",
    "#first we create a random array\n",
    "import numpy as np\n",
    "import random\n",
    "def rndlist():\n",
    "    '''\n",
    "    This function creates a random list of elements with a random lenght between 5-10 and elements between -10 - 10\n",
    "    '''\n",
    "    #list lenght\n",
    "    random.seed()\n",
    "    l= random.randrange(5,11)\n",
    "    #fill the list with random elements\n",
    "    rnlist = list()\n",
    "    for i in range(l):\n",
    "        random.seed()\n",
    "        rnlist.append(random.randrange(-10,10))\n",
    "    return rnlist\n",
    "\n",
    "# we find the maximal subarray by enumerating the arrays\n",
    "# the array has 2^n subarrays, which are easily enumerated by binary numbers \n",
    "# if the nth digit of the binary number is 1 the nth element of the array is in the subarray \n",
    "\n",
    "#this function calculates the list value from a given subarray\n",
    "def value(list1,list2):\n",
    "    sum = 0\n",
    "    for i in range(len(list1)):\n",
    "        sum = sum + list1[i]*list2[i]\n",
    "    return sum\n",
    "        \n",
    "# this function iterates through the subarrays and keeps only the largest one which is printed\n",
    "\n",
    "def maxarray(arr):\n",
    "    '''    this function searches for the maximumm subarray in arr    '''\n",
    "    \n",
    "    l = len(arr) #array length\n",
    "    # we have 2^l subarrays which are enumarated above, just in the  0-2^l-1 range instead of 1-2^l range, which we have to correct\n",
    "    #a list containing zeros and has the lenght of the arr, it is needed for binary representaion\n",
    "    ll = [0*x for x in range(len(arr))]\n",
    "    \n",
    "    #we store the value of the max subarray in a dict, initialized by the zero array\n",
    "    maxarr = {\"list\":ll, \"value\":0}\n",
    "    \n",
    "    for i in range(pow(2,l)):\n",
    "        #calcualte the binary number which represents the list and cast it to a list\n",
    "        sl= [int(x) for x in list(bin(i+1)[2:])] #the first two elements are 'bx' in the string which we cut\n",
    "        lm = ll # the list max always starts as an emtpy list\n",
    "        lm[-len(sl):] = sl #swithc the first elements of the mask to the list corresponding to the binary number representing the subarray\n",
    "        \n",
    "        #calcualte the value of the list with the listmask\n",
    "        val= value(arr,lm)\n",
    "        #print(sl,'  ',val)\n",
    "        \n",
    "        #if this value is higher the the best we have we store it and throw away the old one\n",
    "        # if it is the same value as the other we keep the old one\n",
    "        #this part can be modified to deal with the same valued subarrays as needed\n",
    "        \n",
    "        if (val > maxarr[\"value\"]):\n",
    "            maxarr[\"value\"]=val\n",
    "            maxarr[\"list\"]=[ii for ii in [arr[i]*lm[i] for i in range(l)] if (ii)] #create the list with nested  list comprehension: first changes to zeroes the unused elemnts of arr, second deletes zeros\n",
    "    \n",
    "    return(maxarr)\n",
    "        \n",
    "\n",
    "\"\"\"\n",
    "This code can be optimized by taking advantage of the + - number properties\n",
    "\"\"\""
   ]
  },
  {
   "cell_type": "code",
   "execution_count": 211,
   "metadata": {},
   "outputs": [
    {
     "name": "stdout",
     "output_type": "stream",
     "text": [
      "the random array [-4, 6, 2, -9, 5, -6, 6, -5, -3, 4]   solution  {'list': [6, 2, 5, 6, 4], 'value': 23}\n"
     ]
    }
   ],
   "source": [
    "arr = rndlist()\n",
    "print(\"the random array\",arr,'  '\"solution \",maxarray(arr))\n"
   ]
  },
  {
   "cell_type": "code",
   "execution_count": null,
   "metadata": {},
   "outputs": [],
   "source": []
  }
 ],
 "metadata": {
  "kernelspec": {
   "display_name": "Python 3",
   "language": "python",
   "name": "python3"
  },
  "language_info": {
   "codemirror_mode": {
    "name": "ipython",
    "version": 3
   },
   "file_extension": ".py",
   "mimetype": "text/x-python",
   "name": "python",
   "nbconvert_exporter": "python",
   "pygments_lexer": "ipython3",
   "version": "3.7.4"
  }
 },
 "nbformat": 4,
 "nbformat_minor": 2
}
